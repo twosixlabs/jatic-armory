{
 "cells": [
  {
   "cell_type": "markdown",
   "metadata": {},
   "source": [
    "## Imports"
   ]
  },
  {
   "cell_type": "code",
   "execution_count": 1,
   "metadata": {},
   "outputs": [],
   "source": [
    "from jatic_toolbox import load_dataset as load_jatic_dataset\n",
    "from charmory.utils import PILtoNumpy_HuggingFace\n",
    "from matplotlib import pyplot as plt"
   ]
  },
  {
   "cell_type": "markdown",
   "metadata": {},
   "source": [
    "## Load Pokemon Dataset From HuggingFace into Jatic Dataset"
   ]
  },
  {
   "cell_type": "code",
   "execution_count": 2,
   "metadata": {},
   "outputs": [
    {
     "name": "stderr",
     "output_type": "stream",
     "text": [
      "/home/msw/.virtualenvs/cdao/lib/python3.10/site-packages/datasets/load.py:2083: FutureWarning: 'task' was deprecated in version 2.13.0 and will be removed in 3.0.0.\n",
      "\n",
      "  warnings.warn(\n"
     ]
    }
   ],
   "source": [
    "train_dataset = load_jatic_dataset(\n",
    "    provider=\"huggingface\",\n",
    "    dataset_name=\"keremberke/pokemon-classification\",\n",
    "    task=\"image-classification\",\n",
    "    name=\"full\",\n",
    "    split=\"train\",\n",
    ")\n",
    "#Using set transform to convert PIL images to numpy arrays\n",
    "transform = PILtoNumpy_HuggingFace()\n",
    "train_dataset.set_transform(transform)"
   ]
  },
  {
   "cell_type": "markdown",
   "metadata": {},
   "source": [
    "## Displaying Images"
   ]
  },
  {
   "cell_type": "code",
   "execution_count": 3,
   "metadata": {},
   "outputs": [
    {
     "ename": "AttributeError",
     "evalue": "module 'charmory' has no attribute 'display'",
     "output_type": "error",
     "traceback": [
      "\u001b[0;31m---------------------------------------------------------------------------\u001b[0m",
      "\u001b[0;31mAttributeError\u001b[0m                            Traceback (most recent call last)",
      "Cell \u001b[0;32mIn[3], line 2\u001b[0m\n\u001b[1;32m      1\u001b[0m \u001b[39mimport\u001b[39;00m \u001b[39mcharmory\u001b[39;00m\n\u001b[0;32m----> 2\u001b[0m charmory\u001b[39m.\u001b[39;49mdisplay\u001b[39m.\u001b[39mshow_samples(train_dataset, samples\u001b[39m=\u001b[39m\u001b[39m9\u001b[39m)\n",
      "\u001b[0;31mAttributeError\u001b[0m: module 'charmory' has no attribute 'display'"
     ]
    }
   ],
   "source": [
    "import charmory.display\n",
    "charmory.display.show_samples(train_dataset, samples=9)\n",
    "charmory."
   ]
  }
 ],
 "metadata": {
  "kernelspec": {
   "display_name": "cdao",
   "language": "python",
   "name": "python3"
  },
  "language_info": {
   "codemirror_mode": {
    "name": "ipython",
    "version": 3
   },
   "file_extension": ".py",
   "mimetype": "text/x-python",
   "name": "python",
   "nbconvert_exporter": "python",
   "pygments_lexer": "ipython3",
   "version": "3.10.12"
  },
  "orig_nbformat": 4
 },
 "nbformat": 4,
 "nbformat_minor": 2
}
